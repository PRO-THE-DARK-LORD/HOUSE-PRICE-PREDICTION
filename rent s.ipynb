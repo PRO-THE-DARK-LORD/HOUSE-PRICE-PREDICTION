{
 "cells": [
  {
   "cell_type": "code",
   "execution_count": 7,
   "id": "23ac923c",
   "metadata": {},
   "outputs": [],
   "source": [
    "import tensorflow as tf\n",
    "from tensorflow.keras.datasets import boston_housing\n",
    "from sklearn import preprocessing"
   ]
  },
  {
   "cell_type": "code",
   "execution_count": 11,
   "id": "d9b5a5c7",
   "metadata": {},
   "outputs": [
    {
     "name": "stdout",
     "output_type": "stream",
     "text": [
      "Downloading data from https://storage.googleapis.com/tensorflow/tf-keras-datasets/boston_housing.npz\n",
      "57026/57026 [==============================] - 0s 1us/step\n"
     ]
    }
   ],
   "source": [
    "(train_x,train_y),(test_x,test_y)=boston_housing.load_data()"
   ]
  },
  {
   "cell_type": "code",
   "execution_count": 13,
   "id": "11e0fcad",
   "metadata": {
    "scrolled": true
   },
   "outputs": [
    {
     "name": "stdout",
     "output_type": "stream",
     "text": [
      "Train shape:  (404, 13)\n",
      "Test shape:  (102, 13)\n",
      "Actual Train Output:  (404,)\n",
      "Actual Test Output:  (102,)\n"
     ]
    }
   ],
   "source": [
    "print(\"Train shape: \",train_x.shape)\n",
    "print(\"Test shape: \",test_x.shape)\n",
    "print(\"Actual Train Output: \",train_y.shape)\n",
    "print(\"Actual Test Output: \",test_y.shape)"
   ]
  },
  {
   "cell_type": "code",
   "execution_count": 14,
   "id": "2c535439",
   "metadata": {
    "scrolled": true
   },
   "outputs": [
    {
     "data": {
      "text/plain": [
       "array([  1.23247,   0.     ,   8.14   ,   0.     ,   0.538  ,   6.142  ,\n",
       "        91.7    ,   3.9769 ,   4.     , 307.     ,  21.     , 396.9    ,\n",
       "        18.72   ])"
      ]
     },
     "execution_count": 14,
     "metadata": {},
     "output_type": "execute_result"
    }
   ],
   "source": [
    "train_x[0]"
   ]
  },
  {
   "cell_type": "code",
   "execution_count": 15,
   "id": "d05928ad",
   "metadata": {},
   "outputs": [],
   "source": [
    "train_x=preprocessing.normalize(train_x)\n",
    "test_x=preprocessing.normalize(test_x)"
   ]
  },
  {
   "cell_type": "code",
   "execution_count": 17,
   "id": "f81835ef",
   "metadata": {},
   "outputs": [
    {
     "data": {
      "text/plain": [
       "15.2"
      ]
     },
     "execution_count": 17,
     "metadata": {},
     "output_type": "execute_result"
    }
   ],
   "source": [
    "train_y[0]"
   ]
  },
  {
   "cell_type": "code",
   "execution_count": 18,
   "id": "706456f2",
   "metadata": {},
   "outputs": [],
   "source": [
    "from tensorflow.keras.models import Sequential\n",
    "from tensorflow.keras.layers import *\n",
    "\n",
    "def HousePricePredictionModel():\n",
    "  model = Sequential()\n",
    "  model.add(Dense(128,activation='relu',input_shape=(train_x[0].shape)))\n",
    "  model.add(Dense(64,activation='relu'))\n",
    "  model.add(Dense(32,activation='relu'))\n",
    "  model.add(Dense(1))\n",
    "  model.compile(optimizer='rmsprop',loss='mse',metrics=['mae'])\n",
    "  return model"
   ]
  },
  {
   "cell_type": "code",
   "execution_count": 19,
   "id": "72e41a3c",
   "metadata": {},
   "outputs": [],
   "source": [
    "import numpy as np\n",
    "k = 4\n",
    "num_val_samples = len(train_x)\n",
    "num_epochs = 100\n",
    "all_scores = []"
   ]
  },
  {
   "cell_type": "code",
   "execution_count": 20,
   "id": "8a238786",
   "metadata": {},
   "outputs": [
    {
     "name": "stdout",
     "output_type": "stream",
     "text": [
      "Epoch 1/100\n",
      "404/404 [==============================] - 5s 2ms/step - loss: 152.7625 - mae: 8.7682 - val_loss: 72.1097 - val_mae: 6.0805\n",
      "Epoch 2/100\n",
      "404/404 [==============================] - 1s 2ms/step - loss: 71.5508 - mae: 5.9296 - val_loss: 75.4494 - val_mae: 6.1403\n",
      "Epoch 3/100\n",
      "404/404 [==============================] - 1s 2ms/step - loss: 64.9622 - mae: 5.5449 - val_loss: 62.7125 - val_mae: 5.6518\n",
      "Epoch 4/100\n",
      "404/404 [==============================] - 1s 2ms/step - loss: 61.8484 - mae: 5.4012 - val_loss: 55.6826 - val_mae: 5.4903\n",
      "Epoch 5/100\n",
      "404/404 [==============================] - 1s 2ms/step - loss: 59.6820 - mae: 5.2611 - val_loss: 55.7559 - val_mae: 5.6728\n",
      "Epoch 6/100\n",
      "404/404 [==============================] - 1s 2ms/step - loss: 58.4076 - mae: 5.2137 - val_loss: 58.1017 - val_mae: 5.4130\n",
      "Epoch 7/100\n",
      "404/404 [==============================] - 1s 2ms/step - loss: 56.1319 - mae: 5.1671 - val_loss: 53.5593 - val_mae: 5.2784\n",
      "Epoch 8/100\n",
      "404/404 [==============================] - 1s 2ms/step - loss: 55.5894 - mae: 5.0674 - val_loss: 51.8235 - val_mae: 5.4011\n",
      "Epoch 9/100\n",
      "404/404 [==============================] - 1s 2ms/step - loss: 54.2895 - mae: 5.0147 - val_loss: 51.2674 - val_mae: 5.1103\n",
      "Epoch 10/100\n",
      "404/404 [==============================] - 1s 2ms/step - loss: 51.6200 - mae: 4.8593 - val_loss: 59.4364 - val_mae: 5.3902\n",
      "Epoch 11/100\n",
      "404/404 [==============================] - 1s 2ms/step - loss: 51.0853 - mae: 4.8693 - val_loss: 48.1693 - val_mae: 4.9464\n",
      "Epoch 12/100\n",
      "404/404 [==============================] - 1s 2ms/step - loss: 49.0644 - mae: 4.8881 - val_loss: 50.1947 - val_mae: 4.9492\n",
      "Epoch 13/100\n",
      "404/404 [==============================] - 1s 2ms/step - loss: 48.5328 - mae: 4.6409 - val_loss: 49.2355 - val_mae: 4.8923\n",
      "Epoch 14/100\n",
      "404/404 [==============================] - 1s 2ms/step - loss: 47.2751 - mae: 4.6021 - val_loss: 57.5063 - val_mae: 5.3377\n",
      "Epoch 15/100\n",
      "404/404 [==============================] - 1s 2ms/step - loss: 45.1422 - mae: 4.5285 - val_loss: 44.6008 - val_mae: 4.9846\n",
      "Epoch 16/100\n",
      "404/404 [==============================] - 1s 2ms/step - loss: 44.4159 - mae: 4.4573 - val_loss: 57.6473 - val_mae: 5.2767\n",
      "Epoch 17/100\n",
      "404/404 [==============================] - 1s 2ms/step - loss: 42.9578 - mae: 4.4643 - val_loss: 40.2468 - val_mae: 4.5464\n",
      "Epoch 18/100\n",
      "404/404 [==============================] - 1s 2ms/step - loss: 41.1407 - mae: 4.3690 - val_loss: 37.3315 - val_mae: 4.3524\n",
      "Epoch 19/100\n",
      "404/404 [==============================] - 1s 2ms/step - loss: 40.5347 - mae: 4.4377 - val_loss: 40.0637 - val_mae: 4.7844\n",
      "Epoch 20/100\n",
      "404/404 [==============================] - 1s 2ms/step - loss: 38.6074 - mae: 4.3630 - val_loss: 41.3056 - val_mae: 5.0840\n",
      "Epoch 21/100\n",
      "404/404 [==============================] - 1s 2ms/step - loss: 38.5722 - mae: 4.3883 - val_loss: 33.6027 - val_mae: 4.0887\n",
      "Epoch 22/100\n",
      "404/404 [==============================] - 1s 2ms/step - loss: 37.6161 - mae: 4.3009 - val_loss: 33.4281 - val_mae: 4.0900\n",
      "Epoch 23/100\n",
      "404/404 [==============================] - 1s 2ms/step - loss: 36.6820 - mae: 4.2125 - val_loss: 32.5348 - val_mae: 4.0399\n",
      "Epoch 24/100\n",
      "404/404 [==============================] - 1s 2ms/step - loss: 35.9871 - mae: 4.2365 - val_loss: 32.7059 - val_mae: 4.0121\n",
      "Epoch 25/100\n",
      "404/404 [==============================] - 1s 2ms/step - loss: 34.9801 - mae: 4.0841 - val_loss: 31.7327 - val_mae: 4.1202\n",
      "Epoch 26/100\n",
      "404/404 [==============================] - 1s 2ms/step - loss: 34.1524 - mae: 4.1753 - val_loss: 33.7326 - val_mae: 4.0007\n",
      "Epoch 27/100\n",
      "404/404 [==============================] - 1s 2ms/step - loss: 33.8623 - mae: 4.0896 - val_loss: 30.7792 - val_mae: 4.1005\n",
      "Epoch 28/100\n",
      "404/404 [==============================] - 1s 2ms/step - loss: 32.0848 - mae: 4.0352 - val_loss: 30.8017 - val_mae: 4.1612\n",
      "Epoch 29/100\n",
      "404/404 [==============================] - 1s 2ms/step - loss: 32.7708 - mae: 4.0474 - val_loss: 38.6042 - val_mae: 4.1886\n",
      "Epoch 30/100\n",
      "404/404 [==============================] - 1s 2ms/step - loss: 31.3861 - mae: 3.9120 - val_loss: 28.8961 - val_mae: 3.7829\n",
      "Epoch 31/100\n",
      "404/404 [==============================] - 1s 2ms/step - loss: 30.6944 - mae: 3.9121 - val_loss: 28.7005 - val_mae: 3.7591\n",
      "Epoch 32/100\n",
      "404/404 [==============================] - 1s 2ms/step - loss: 30.9568 - mae: 3.9177 - val_loss: 31.4481 - val_mae: 3.8832\n",
      "Epoch 33/100\n",
      "404/404 [==============================] - 1s 2ms/step - loss: 30.6618 - mae: 3.9173 - val_loss: 28.2341 - val_mae: 3.7503\n",
      "Epoch 34/100\n",
      "404/404 [==============================] - 1s 2ms/step - loss: 29.4194 - mae: 3.8739 - val_loss: 32.9402 - val_mae: 4.6292\n",
      "Epoch 35/100\n",
      "404/404 [==============================] - 1s 2ms/step - loss: 29.3537 - mae: 3.8248 - val_loss: 35.5868 - val_mae: 4.1075\n",
      "Epoch 36/100\n",
      "404/404 [==============================] - 1s 2ms/step - loss: 28.6253 - mae: 3.8317 - val_loss: 32.0701 - val_mae: 3.8971\n",
      "Epoch 37/100\n",
      "404/404 [==============================] - 1s 2ms/step - loss: 27.2993 - mae: 3.6771 - val_loss: 29.0856 - val_mae: 3.7940\n",
      "Epoch 38/100\n",
      "404/404 [==============================] - 1s 2ms/step - loss: 27.6757 - mae: 3.6902 - val_loss: 28.4475 - val_mae: 3.7285\n",
      "Epoch 39/100\n",
      "404/404 [==============================] - 1s 2ms/step - loss: 26.8886 - mae: 3.7495 - val_loss: 27.4929 - val_mae: 4.0534\n",
      "Epoch 40/100\n",
      "404/404 [==============================] - 1s 2ms/step - loss: 26.1314 - mae: 3.6478 - val_loss: 35.6895 - val_mae: 4.1601\n",
      "Epoch 41/100\n",
      "404/404 [==============================] - 1s 2ms/step - loss: 26.6472 - mae: 3.6518 - val_loss: 25.5279 - val_mae: 3.6599\n",
      "Epoch 42/100\n",
      "404/404 [==============================] - 1s 2ms/step - loss: 25.2974 - mae: 3.6127 - val_loss: 28.8893 - val_mae: 3.6833\n",
      "Epoch 43/100\n",
      "404/404 [==============================] - 1s 2ms/step - loss: 25.0550 - mae: 3.5839 - val_loss: 27.0326 - val_mae: 3.9780\n",
      "Epoch 44/100\n",
      "404/404 [==============================] - 1s 2ms/step - loss: 23.3232 - mae: 3.4549 - val_loss: 26.2270 - val_mae: 3.6596\n",
      "Epoch 45/100\n",
      "404/404 [==============================] - 1s 2ms/step - loss: 25.2140 - mae: 3.5211 - val_loss: 27.5776 - val_mae: 3.6731\n",
      "Epoch 46/100\n",
      "404/404 [==============================] - 1s 2ms/step - loss: 24.4061 - mae: 3.5555 - val_loss: 30.3120 - val_mae: 4.4268\n",
      "Epoch 47/100\n",
      "404/404 [==============================] - 1s 2ms/step - loss: 22.8367 - mae: 3.4451 - val_loss: 24.6619 - val_mae: 3.5117\n",
      "Epoch 48/100\n",
      "404/404 [==============================] - 1s 2ms/step - loss: 23.2493 - mae: 3.4845 - val_loss: 30.4543 - val_mae: 3.8149\n",
      "Epoch 49/100\n",
      "404/404 [==============================] - 1s 2ms/step - loss: 22.1348 - mae: 3.3761 - val_loss: 34.8147 - val_mae: 4.1290\n",
      "Epoch 50/100\n",
      "404/404 [==============================] - 1s 2ms/step - loss: 22.0156 - mae: 3.3310 - val_loss: 28.6170 - val_mae: 3.7218\n",
      "Epoch 51/100\n",
      "404/404 [==============================] - 1s 2ms/step - loss: 21.8439 - mae: 3.3151 - val_loss: 28.6697 - val_mae: 4.1831\n",
      "Epoch 52/100\n",
      "404/404 [==============================] - 1s 2ms/step - loss: 21.3838 - mae: 3.3241 - val_loss: 33.2527 - val_mae: 3.9372\n",
      "Epoch 53/100\n",
      "404/404 [==============================] - 1s 3ms/step - loss: 21.0156 - mae: 3.3150 - val_loss: 25.4248 - val_mae: 3.5106\n",
      "Epoch 54/100\n",
      "404/404 [==============================] - 1s 3ms/step - loss: 21.6552 - mae: 3.3894 - val_loss: 26.1621 - val_mae: 3.5765\n",
      "Epoch 55/100\n",
      "404/404 [==============================] - 1s 2ms/step - loss: 19.1745 - mae: 3.1936 - val_loss: 26.0409 - val_mae: 3.5585\n",
      "Epoch 56/100\n",
      "404/404 [==============================] - 1s 2ms/step - loss: 18.5054 - mae: 3.1210 - val_loss: 26.3682 - val_mae: 3.6840\n",
      "Epoch 57/100\n",
      "404/404 [==============================] - 1s 2ms/step - loss: 18.8151 - mae: 3.1190 - val_loss: 30.3568 - val_mae: 3.8400\n",
      "Epoch 58/100\n",
      "404/404 [==============================] - 1s 2ms/step - loss: 18.6453 - mae: 3.1369 - val_loss: 27.7174 - val_mae: 3.8280\n",
      "Epoch 59/100\n",
      "404/404 [==============================] - 1s 2ms/step - loss: 19.9773 - mae: 3.2010 - val_loss: 42.1909 - val_mae: 4.6583\n",
      "Epoch 60/100\n",
      "404/404 [==============================] - 1s 2ms/step - loss: 19.9892 - mae: 3.1302 - val_loss: 27.6669 - val_mae: 3.6721\n",
      "Epoch 61/100\n"
     ]
    },
    {
     "name": "stdout",
     "output_type": "stream",
     "text": [
      "404/404 [==============================] - 1s 2ms/step - loss: 19.7590 - mae: 3.1494 - val_loss: 32.0998 - val_mae: 3.9410\n",
      "Epoch 62/100\n",
      "404/404 [==============================] - 1s 2ms/step - loss: 20.3698 - mae: 3.2545 - val_loss: 26.8640 - val_mae: 3.5482\n",
      "Epoch 63/100\n",
      "404/404 [==============================] - 1s 2ms/step - loss: 18.3740 - mae: 3.0577 - val_loss: 31.9093 - val_mae: 4.1335\n",
      "Epoch 64/100\n",
      "404/404 [==============================] - 1s 2ms/step - loss: 18.8648 - mae: 3.0864 - val_loss: 28.1327 - val_mae: 3.6968\n",
      "Epoch 65/100\n",
      "404/404 [==============================] - 1s 2ms/step - loss: 18.2771 - mae: 3.1118 - val_loss: 30.7524 - val_mae: 3.8804\n",
      "Epoch 66/100\n",
      "404/404 [==============================] - 1s 2ms/step - loss: 17.7059 - mae: 3.1251 - val_loss: 30.3117 - val_mae: 3.8356\n",
      "Epoch 67/100\n",
      "404/404 [==============================] - 1s 2ms/step - loss: 18.4207 - mae: 3.1201 - val_loss: 33.6228 - val_mae: 4.0742\n",
      "Epoch 68/100\n",
      "404/404 [==============================] - 1s 2ms/step - loss: 18.8517 - mae: 3.1160 - val_loss: 27.9752 - val_mae: 3.6664\n",
      "Epoch 69/100\n",
      "404/404 [==============================] - 1s 2ms/step - loss: 19.2525 - mae: 3.1270 - val_loss: 27.8579 - val_mae: 3.6106\n",
      "Epoch 70/100\n",
      "404/404 [==============================] - 1s 2ms/step - loss: 17.0539 - mae: 3.0769 - val_loss: 27.1571 - val_mae: 3.6346\n",
      "Epoch 71/100\n",
      "404/404 [==============================] - 1s 2ms/step - loss: 18.3158 - mae: 2.9521 - val_loss: 29.2896 - val_mae: 3.6120\n",
      "Epoch 72/100\n",
      "404/404 [==============================] - 1s 2ms/step - loss: 17.0810 - mae: 3.0030 - val_loss: 30.8988 - val_mae: 3.8349\n",
      "Epoch 73/100\n",
      "404/404 [==============================] - 1s 2ms/step - loss: 17.9056 - mae: 3.0886 - val_loss: 31.5776 - val_mae: 3.8829\n",
      "Epoch 74/100\n",
      "404/404 [==============================] - 1s 2ms/step - loss: 16.1882 - mae: 2.8945 - val_loss: 35.6411 - val_mae: 4.1070\n",
      "Epoch 75/100\n",
      "404/404 [==============================] - 1s 2ms/step - loss: 18.4576 - mae: 3.0430 - val_loss: 28.2129 - val_mae: 3.5587\n",
      "Epoch 76/100\n",
      "404/404 [==============================] - 1s 2ms/step - loss: 17.9773 - mae: 2.9591 - val_loss: 31.5992 - val_mae: 3.8706\n",
      "Epoch 77/100\n",
      "404/404 [==============================] - 1s 2ms/step - loss: 17.6499 - mae: 3.0155 - val_loss: 33.9626 - val_mae: 4.1204\n",
      "Epoch 78/100\n",
      "404/404 [==============================] - 1s 2ms/step - loss: 17.4039 - mae: 3.0345 - val_loss: 33.8383 - val_mae: 4.0518\n",
      "Epoch 79/100\n",
      "404/404 [==============================] - 1s 2ms/step - loss: 17.1237 - mae: 3.0315 - val_loss: 27.6536 - val_mae: 3.5683\n",
      "Epoch 80/100\n",
      "404/404 [==============================] - 1s 2ms/step - loss: 17.5454 - mae: 3.0160 - val_loss: 33.8844 - val_mae: 4.1253\n",
      "Epoch 81/100\n",
      "404/404 [==============================] - 1s 2ms/step - loss: 17.8747 - mae: 3.0209 - val_loss: 31.9460 - val_mae: 3.9564\n",
      "Epoch 82/100\n",
      "404/404 [==============================] - 1s 2ms/step - loss: 16.4180 - mae: 2.8363 - val_loss: 31.8345 - val_mae: 3.8369\n",
      "Epoch 83/100\n",
      "404/404 [==============================] - 1s 2ms/step - loss: 17.6702 - mae: 3.0668 - val_loss: 28.0483 - val_mae: 3.6437\n",
      "Epoch 84/100\n",
      "404/404 [==============================] - 1s 2ms/step - loss: 17.1584 - mae: 3.0193 - val_loss: 28.2702 - val_mae: 3.5253\n",
      "Epoch 85/100\n",
      "404/404 [==============================] - 1s 2ms/step - loss: 17.1397 - mae: 3.0368 - val_loss: 28.1682 - val_mae: 3.8700\n",
      "Epoch 86/100\n",
      "404/404 [==============================] - 1s 2ms/step - loss: 17.1288 - mae: 2.9383 - val_loss: 27.5243 - val_mae: 3.6378\n",
      "Epoch 87/100\n",
      "404/404 [==============================] - 1s 2ms/step - loss: 17.2968 - mae: 2.9585 - val_loss: 28.5492 - val_mae: 3.6643\n",
      "Epoch 88/100\n",
      "404/404 [==============================] - 1s 2ms/step - loss: 16.2014 - mae: 2.8741 - val_loss: 27.7637 - val_mae: 3.6163\n",
      "Epoch 89/100\n",
      "404/404 [==============================] - 1s 2ms/step - loss: 16.2988 - mae: 2.9466 - val_loss: 28.6351 - val_mae: 3.6330\n",
      "Epoch 90/100\n",
      "404/404 [==============================] - 1s 2ms/step - loss: 16.8301 - mae: 2.9559 - val_loss: 31.3074 - val_mae: 3.7000\n",
      "Epoch 91/100\n",
      "404/404 [==============================] - 1s 2ms/step - loss: 16.8731 - mae: 2.9447 - val_loss: 30.1104 - val_mae: 3.8865\n",
      "Epoch 92/100\n",
      "404/404 [==============================] - 1s 2ms/step - loss: 16.4629 - mae: 2.9186 - val_loss: 30.4199 - val_mae: 3.7790\n",
      "Epoch 93/100\n",
      "404/404 [==============================] - 1s 2ms/step - loss: 15.5115 - mae: 2.8233 - val_loss: 28.2993 - val_mae: 3.8136\n",
      "Epoch 94/100\n",
      "404/404 [==============================] - 1s 2ms/step - loss: 17.5316 - mae: 2.9467 - val_loss: 35.7799 - val_mae: 4.2734\n",
      "Epoch 95/100\n",
      "404/404 [==============================] - 1s 2ms/step - loss: 17.7506 - mae: 3.0289 - val_loss: 29.8637 - val_mae: 3.6203\n",
      "Epoch 96/100\n",
      "404/404 [==============================] - 1s 2ms/step - loss: 16.9661 - mae: 2.9389 - val_loss: 32.0165 - val_mae: 3.7460\n",
      "Epoch 97/100\n",
      "404/404 [==============================] - 1s 2ms/step - loss: 16.2230 - mae: 2.8671 - val_loss: 28.1268 - val_mae: 3.5349\n",
      "Epoch 98/100\n",
      "404/404 [==============================] - 1s 2ms/step - loss: 16.5481 - mae: 2.9186 - val_loss: 31.9527 - val_mae: 3.8061\n",
      "Epoch 99/100\n",
      "404/404 [==============================] - 1s 2ms/step - loss: 16.0088 - mae: 2.8763 - val_loss: 37.4269 - val_mae: 4.1928\n",
      "Epoch 100/100\n",
      "404/404 [==============================] - 1s 2ms/step - loss: 16.0209 - mae: 2.8818 - val_loss: 28.3620 - val_mae: 3.5134\n"
     ]
    }
   ],
   "source": [
    "model = HousePricePredictionModel()\n",
    "history=model.fit(x=train_x,y=train_y,epochs=num_epochs,batch_size=1,verbose=1,validation_data=(test_x,test_y))"
   ]
  },
  {
   "cell_type": "code",
   "execution_count": 21,
   "id": "8fb549c9",
   "metadata": {},
   "outputs": [],
   "source": [
    "crim = 0.10632\n",
    "zn = 18.0\n",
    "indus = 0.31\n",
    "chas = 0.0\n",
    "nox = 0.538\n",
    "rm = 9.575\n",
    "age = 48.0\n",
    "dis = 5.967\n",
    "rad = 1.0\n",
    "tax = 456.0\n",
    "ptratio = 15.3\n",
    "black = 396.9\n",
    "lstat = 12.5"
   ]
  },
  {
   "cell_type": "code",
   "execution_count": 22,
   "id": "ffa3fe83",
   "metadata": {},
   "outputs": [
    {
     "name": "stdout",
     "output_type": "stream",
     "text": [
      "1/1 [==============================] - 0s 161ms/step\n",
      "Predicted price: [[2807.18]]\n"
     ]
    }
   ],
   "source": [
    "predicted_price = model.predict([[crim, zn, indus, chas, nox, rm, age, dis, rad, tax, ptratio, black, lstat]])\n",
    "print(\"Predicted price:\", predicted_price)"
   ]
  },
  {
   "cell_type": "code",
   "execution_count": null,
   "id": "e69a8084",
   "metadata": {},
   "outputs": [],
   "source": []
  }
 ],
 "metadata": {
  "kernelspec": {
   "display_name": "Python 3 (ipykernel)",
   "language": "python",
   "name": "python3"
  },
  "language_info": {
   "codemirror_mode": {
    "name": "ipython",
    "version": 3
   },
   "file_extension": ".py",
   "mimetype": "text/x-python",
   "name": "python",
   "nbconvert_exporter": "python",
   "pygments_lexer": "ipython3",
   "version": "3.11.7"
  }
 },
 "nbformat": 4,
 "nbformat_minor": 5
}
